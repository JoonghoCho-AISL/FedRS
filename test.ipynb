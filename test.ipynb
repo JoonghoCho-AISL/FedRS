{
 "cells": [
  {
   "cell_type": "code",
   "execution_count": 1,
   "metadata": {},
   "outputs": [
    {
     "ename": "ModuleNotFoundError",
     "evalue": "No module named 'restrictedSoftmax'",
     "output_type": "error",
     "traceback": [
      "\u001b[0;31m---------------------------------------------------------------------------\u001b[0m",
      "\u001b[0;31mModuleNotFoundError\u001b[0m                       Traceback (most recent call last)",
      "\u001b[1;32m/home/joongho/FL/test.ipynb Cell 1'\u001b[0m in \u001b[0;36m<cell line: 2>\u001b[0;34m()\u001b[0m\n\u001b[1;32m      <a href='vscode-notebook-cell://ssh-remote%2Baisl_gpu_server/home/joongho/FL/test.ipynb#ch0000000vscode-remote?line=0'>1</a>\u001b[0m \u001b[39mimport\u001b[39;00m \u001b[39mtensorflow\u001b[39;00m \u001b[39mas\u001b[39;00m \u001b[39mtf\u001b[39;00m\n\u001b[0;32m----> <a href='vscode-notebook-cell://ssh-remote%2Baisl_gpu_server/home/joongho/FL/test.ipynb#ch0000000vscode-remote?line=1'>2</a>\u001b[0m \u001b[39mimport\u001b[39;00m \u001b[39msrc\u001b[39;00m\u001b[39m.\u001b[39;00m\u001b[39mmodel\u001b[39;00m\n\u001b[1;32m      <a href='vscode-notebook-cell://ssh-remote%2Baisl_gpu_server/home/joongho/FL/test.ipynb#ch0000000vscode-remote?line=2'>3</a>\u001b[0m \u001b[39mimport\u001b[39;00m \u001b[39mnumpy\u001b[39;00m \u001b[39mas\u001b[39;00m \u001b[39mnp\u001b[39;00m\n",
      "File \u001b[0;32m~/FL/src/model.py:1\u001b[0m, in \u001b[0;36m<module>\u001b[0;34m\u001b[0m\n\u001b[0;32m----> <a href='file:///home/joongho/FL/src/model.py?line=0'>1</a>\u001b[0m \u001b[39mfrom\u001b[39;00m \u001b[39mrestrictedSoftmax\u001b[39;00m \u001b[39mimport\u001b[39;00m \u001b[39m*\u001b[39m\n\u001b[1;32m      <a href='file:///home/joongho/FL/src/model.py?line=1'>2</a>\u001b[0m \u001b[39mimport\u001b[39;00m \u001b[39mtensorflow\u001b[39;00m \u001b[39mas\u001b[39;00m \u001b[39mtf\u001b[39;00m\n\u001b[1;32m      <a href='file:///home/joongho/FL/src/model.py?line=3'>4</a>\u001b[0m \u001b[39mfrom\u001b[39;00m \u001b[39mtensorflow\u001b[39;00m \u001b[39mimport\u001b[39;00m keras\n",
      "\u001b[0;31mModuleNotFoundError\u001b[0m: No module named 'restrictedSoftmax'"
     ]
    }
   ],
   "source": [
    "import tensorflow as tf\n",
    "import src.model\n",
    "import numpy as np"
   ]
  },
  {
   "cell_type": "code",
   "execution_count": 2,
   "metadata": {},
   "outputs": [],
   "source": [
    "import os\n",
    "os.environ[\"CUDA_VISIBLE_DEVICES\"] = \"1\"\n",
    "# gpus = tf.config.experimental.list_physical_devices('GPU')\n",
    "# if gpus:\n",
    "#   # 텐서플로가 첫 번째 GPU에 1GB 메모리만 할당하도록 제한\n",
    "#   try:\n",
    "#     tf.config.experimental.set_virtual_device_configuration(\n",
    "#         gpus[0],\n",
    "#         [tf.config.experimental.VirtualDeviceConfiguration(memory_limit=1024*10)])\n",
    "#   except RuntimeError as e:\n",
    "#     # 프로그램 시작시에 가상 장치가 설정되어야만 합니다\n",
    "#     print(e)"
   ]
  },
  {
   "cell_type": "code",
   "execution_count": 3,
   "metadata": {},
   "outputs": [],
   "source": [
    "tf.random.set_seed=(0)"
   ]
  },
  {
   "cell_type": "code",
   "execution_count": 4,
   "metadata": {},
   "outputs": [],
   "source": [
    "img_size = [100, 100]"
   ]
  },
  {
   "cell_type": "code",
   "execution_count": 5,
   "metadata": {},
   "outputs": [],
   "source": [
    "model = src.model.get_convnext_model(input_shape = (100, 100, 3))\n",
    "# model = src.model.get_CNN(img_size)"
   ]
  },
  {
   "cell_type": "code",
   "execution_count": 6,
   "metadata": {},
   "outputs": [
    {
     "name": "stdout",
     "output_type": "stream",
     "text": [
      "Model: \"convnext_small_1k\"\n",
      "__________________________________________________________________________________________________\n",
      " Layer (type)                   Output Shape         Param #     Connected to                     \n",
      "==================================================================================================\n",
      " input_1 (InputLayer)           [(None, 100, 100, 3  0           []                               \n",
      "                                )]                                                                \n",
      "                                                                                                  \n",
      " stem (Sequential)              (None, 25, 25, 96)   4896        ['input_1[0][0]']                \n",
      "                                                                                                  \n",
      " convnext_stage_0 (Sequential)  (None, 25, 25, 96)   237888      ['stem[0][0]']                   \n",
      "                                                                                                  \n",
      " downsampling_block_0 (Sequenti  (None, 12, 12, 192)  74112      ['convnext_stage_0[0][0]']       \n",
      " al)                                                                                              \n",
      "                                                                                                  \n",
      " convnext_stage_1 (Sequential)  (None, 12, 12, 192)  918144      ['downsampling_block_0[0][0]']   \n",
      "                                                                                                  \n",
      " downsampling_block_1 (Sequenti  (None, 6, 6, 384)   295680      ['convnext_stage_1[0][0]']       \n",
      " al)                                                                                              \n",
      "                                                                                                  \n",
      " convnext_stage_2 (Sequential)  (None, 6, 6, 384)    32451840    ['downsampling_block_1[0][0]']   \n",
      "                                                                                                  \n",
      " downsampling_block_2 (Sequenti  (None, 3, 3, 768)   1181184     ['convnext_stage_2[0][0]']       \n",
      " al)                                                                                              \n",
      "                                                                                                  \n",
      " convnext_stage_3 (Sequential)  (None, 3, 3, 768)    14289408    ['downsampling_block_2[0][0]']   \n",
      "                                                                                                  \n",
      " global_average_pooling2d (Glob  (None, 768)         0           ['convnext_stage_3[0][0]']       \n",
      " alAveragePooling2D)                                                                              \n",
      "                                                                                                  \n",
      " layer_normalization_40 (LayerN  (None, 768)         1536        ['global_average_pooling2d[0][0]'\n",
      " ormalization)                                                   ]                                \n",
      "                                                                                                  \n",
      " dropout (Dropout)              (None, 768)          0           ['layer_normalization_40[0][0]'] \n",
      "                                                                                                  \n",
      " classification_head (Dense)    (None, 100)          76900       ['dropout[0][0]']                \n",
      "                                                                                                  \n",
      " tf.math.multiply (TFOpLambda)  (None, 100)          0           ['classification_head[0][0]']    \n",
      "                                                                                                  \n",
      " tf.math.exp (TFOpLambda)       (None, 100)          0           ['tf.math.multiply[0][0]']       \n",
      "                                                                                                  \n",
      " tf.math.reduce_sum (TFOpLambda  ()                  0           ['tf.math.exp[0][0]']            \n",
      " )                                                                                                \n",
      "                                                                                                  \n",
      " tf.convert_to_tensor (TFOpLamb  ()                  0           ['tf.math.reduce_sum[0][0]']     \n",
      " da)                                                                                              \n",
      "                                                                                                  \n",
      " tf.math.truediv (TFOpLambda)   (None, 100)          0           ['tf.math.exp[0][0]',            \n",
      "                                                                  'tf.convert_to_tensor[0][0]']   \n",
      "                                                                                                  \n",
      "==================================================================================================\n",
      "Total params: 49,531,588\n",
      "Trainable params: 49,531,588\n",
      "Non-trainable params: 0\n",
      "__________________________________________________________________________________________________\n",
      "None\n"
     ]
    }
   ],
   "source": [
    "print(model.summary())"
   ]
  },
  {
   "cell_type": "code",
   "execution_count": 7,
   "metadata": {},
   "outputs": [],
   "source": [
    "# model.save('./models/clients/convNext')\n",
    "# model.save('models/clients/CNN')"
   ]
  },
  {
   "cell_type": "code",
   "execution_count": 8,
   "metadata": {},
   "outputs": [
    {
     "name": "stdout",
     "output_type": "stream",
     "text": [
      "Found 50000 files belonging to 10 classes.\n",
      "Using 40000 files for training.\n",
      "Found 50000 files belonging to 10 classes.\n",
      "Using 10000 files for validation.\n"
     ]
    }
   ],
   "source": [
    "train_ds  = tf.keras.utils.image_dataset_from_directory(\n",
    "    'data/clients/',\n",
    "    labels='inferred',\n",
    "    label_mode='int',\n",
    "    class_names=None,\n",
    "    color_mode='rgb',\n",
    "    batch_size=32,\n",
    "    image_size=img_size,\n",
    "    shuffle=True,\n",
    "    seed=0,\n",
    "    validation_split=0.2,\n",
    "    subset= 'training',\n",
    "    interpolation='bilinear',\n",
    "    follow_links=False,\n",
    "    crop_to_aspect_ratio=False,\n",
    ")\n",
    "val_ds  = tf.keras.utils.image_dataset_from_directory(\n",
    "    'data/clients/',\n",
    "    labels='inferred',\n",
    "    label_mode='int',\n",
    "    class_names=None,\n",
    "    color_mode='rgb',\n",
    "    batch_size=32,\n",
    "    image_size=img_size,\n",
    "    shuffle=True,\n",
    "    seed=0,\n",
    "    validation_split=0.2,\n",
    "    subset= 'validation',\n",
    "    interpolation='bilinear',\n",
    "    follow_links=False,\n",
    "    crop_to_aspect_ratio=False,\n",
    ")"
   ]
  },
  {
   "cell_type": "code",
   "execution_count": 9,
   "metadata": {},
   "outputs": [],
   "source": [
    "normalization_layer = tf.keras.layers.experimental.preprocessing.Rescaling(1./255)\n",
    "normalized_train_ds = train_ds.map(lambda x, y : (normalization_layer(x) , tf.one_hot(y, 100)))\n",
    "normalized_val_ds = val_ds.map(lambda x, y : (normalization_layer(x) , tf.one_hot(y, 100)))\n"
   ]
  },
  {
   "cell_type": "code",
   "execution_count": 10,
   "metadata": {},
   "outputs": [],
   "source": [
    "model.compile(\n",
    "    optimizer= tf.keras.optimizers.Adam(),\n",
    "    loss = 'categorical_crossentropy',\n",
    "    metrics = ['acc']\n",
    ")"
   ]
  },
  {
   "cell_type": "code",
   "execution_count": 11,
   "metadata": {},
   "outputs": [
    {
     "name": "stdout",
     "output_type": "stream",
     "text": [
      "Epoch 1/10\n",
      "1250/1250 [==============================] - 271s 201ms/step - loss: 2.0614 - acc: 0.2442 - val_loss: 1.6882 - val_acc: 0.3776\n",
      "Epoch 2/10\n",
      "1250/1250 [==============================] - 249s 199ms/step - loss: 1.5905 - acc: 0.4144 - val_loss: 1.4277 - val_acc: 0.4770\n",
      "Epoch 3/10\n",
      "1250/1250 [==============================] - 247s 197ms/step - loss: 1.3885 - acc: 0.4953 - val_loss: 1.3195 - val_acc: 0.5216\n",
      "Epoch 4/10\n",
      "1250/1250 [==============================] - 248s 198ms/step - loss: 1.2144 - acc: 0.5642 - val_loss: 1.1487 - val_acc: 0.5913\n",
      "Epoch 5/10\n",
      "1250/1250 [==============================] - 247s 197ms/step - loss: 1.0554 - acc: 0.6277 - val_loss: 1.0732 - val_acc: 0.6232\n",
      "Epoch 6/10\n",
      "1250/1250 [==============================] - 244s 195ms/step - loss: 0.9031 - acc: 0.6823 - val_loss: 1.0638 - val_acc: 0.6426\n",
      "Epoch 7/10\n",
      "1250/1250 [==============================] - 247s 197ms/step - loss: 0.7579 - acc: 0.7341 - val_loss: 1.0553 - val_acc: 0.6620\n",
      "Epoch 8/10\n",
      "1250/1250 [==============================] - 247s 197ms/step - loss: 0.6128 - acc: 0.7858 - val_loss: 1.0246 - val_acc: 0.6874\n",
      "Epoch 9/10\n",
      "1250/1250 [==============================] - 250s 200ms/step - loss: 0.4727 - acc: 0.8331 - val_loss: 1.0689 - val_acc: 0.6859\n",
      "Epoch 10/10\n",
      "1250/1250 [==============================] - 246s 197ms/step - loss: 0.3518 - acc: 0.8767 - val_loss: 1.3685 - val_acc: 0.6863\n"
     ]
    }
   ],
   "source": [
    "history = model.fit(\n",
    "  normalized_train_ds,\n",
    "  # batch_size = 32,\n",
    "  validation_data=normalized_val_ds,\n",
    "  epochs=10\n",
    ")"
   ]
  },
  {
   "cell_type": "code",
   "execution_count": 20,
   "metadata": {},
   "outputs": [
    {
     "data": {
      "image/png": "[encoded data removed]",
      "text/plain": [
       "<Figure size 432x288 with 2 Axes>"
      ]
     },
     "metadata": {
      "needs_background": "light"
     },
     "output_type": "display_data"
    }
   ],
   "source": [
    "import matplotlib.pyplot as plt\n",
    "\n",
    "plt.subplot(2, 1, 1)\n",
    "plt.title('accuracy')\n",
    "plt.xlabel('epochs')\n",
    "plt.plot(history.history['acc'])\n",
    "plt.subplot(2, 1, 2)\n",
    "plt.title('loss')\n",
    "plt.xlabel('epochs')\n",
    "plt.plot(history.history['loss'])\n",
    "plt.show()"
   ]
  },
  {
   "cell_type": "code",
   "execution_count": null,
   "metadata": {},
   "outputs": [],
   "source": []
  }
 ],
 "metadata": {
  "interpreter": {
   "hash": "e60dc1f8d88e83fcc471fb2deca468da97de2249c28336184c71912856987028"
  },
  "kernelspec": {
   "display_name": "Python 3.8.12 ('fl')",
   "language": "python",
   "name": "python3"
  },
  "language_info": {
   "codemirror_mode": {
    "name": "ipython",
    "version": 3
   },
   "file_extension": ".py",
   "mimetype": "text/x-python",
   "name": "python",
   "nbconvert_exporter": "python",
   "pygments_lexer": "ipython3",
   "version": "3.8.12"
  },
  "orig_nbformat": 4
 },
 "nbformat": 4,
 "nbformat_minor": 2
}
