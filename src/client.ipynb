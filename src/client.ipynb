{
 "cells": [
  {
   "cell_type": "code",
   "execution_count": 2,
   "metadata": {},
   "outputs": [],
   "source": [
    "gpus = tf.config.experimental.list_physical_devices('GPU')\n",
    "if gpus:\n",
    "  # 텐서플로가 첫 번째 GPU만 사용하도록 제한\n",
    "  try:\n",
    "    tf.config.experimental.set_visible_devices(gpus[0], 'GPU')\n",
    "  except RuntimeError as e:\n",
    "    # 프로그램 시작시에 접근 가능한 장치가 설정되어야만 합니다\n",
    "    print(e)"
   ]
  },
  {
   "cell_type": "code",
   "execution_count": 1,
   "metadata": {},
   "outputs": [],
   "source": [
    "from model import *\n",
    "\n",
    "import tensorflow as tf\n",
    "import numpy as np\n",
    "import os\n",
    "import pickle\n",
    "\n",
    "from sklearn.model_selection import train_test_split\n",
    "\n",
    "\n",
    "update_config = {\n",
    "    'seed' : 0,\n",
    "    'num_classes' : 100,\n",
    "    'local_epochs' : 10,\n",
    "    'local_batch_size' : 100,\n",
    "}\n",
    "\n",
    "client_config = {\n",
    "    'num' : 100,\n",
    "}\n",
    "\n",
    "class Client():\n",
    "    def __init__(self, client_id : int, update_config : dict, weights):\n",
    "        self.client_id = client_id\n",
    "        self.update_config = update_config\n",
    "        # self.trainData = self.unpickle(os.path.join('/home/joongho/FL/', 'data/clients/client' + str(self.client_id)))\n",
    "        self.trainData = self.unpickle(os.path.join(os.path.dirname(__file__), 'data/clients/client' + str(self.client_id)))\n",
    "        self.pre_weights = weights\n",
    "\n",
    "    def unpickle(self, file):\n",
    "        with open(file, 'rb') as fo:\n",
    "            myDict = pickle.load(fo, encoding='latin1')\n",
    "        return myDict\n",
    "\n",
    "    def update_model(self):\n",
    "        self.MobileNet = MobileNet_RS([self.trainData['data'].shape[2], self.trainData['data'].shape[3],\n",
    "                                    self.trainData['data'].shape[1]], \n",
    "                                    num_classes = self.update_config['num_classes'])\n",
    "        # self.MobileNet = MobileNet([self.trainData['data'].shape[2], self.trainData['data'].shape[3],\n",
    "        #                     self.trainData['data'].shape[1]], \n",
    "        #                     num_classes = self.update_config['num_classes'])\n",
    "        self.model = self.MobileNet.model\n",
    "\n",
    "        # self.model.set_weights(self.pre_weights)\n",
    "        x = np.transpose(self.trainData['data'], (0,2,3,1))\n",
    "        x_n = x / 255\n",
    "        y = np.eye(self.update_config['num_classes'])[self.trainData['fine_labels']]\n",
    "\n",
    "        self.x_train, self.x_val, self.y_train, self.y_val = train_test_split(x_n, y, test_size = 0.1)\n",
    "        self.model.fit(\n",
    "            x = self.x_train,\n",
    "            y = self.y_train,\n",
    "            batch_size = self.update_config['local_batch_size'],\n",
    "            epochs = self.update_config['local_epochs'],\n",
    "            validation_data = [self.x_val, self.y_val],\n",
    "            verbose = 0,\n",
    "        )\n",
    "        self.weights = self.model.get_weights()\n",
    "        self.weights = np.array(self.weights)\n",
    "\n",
    "    def diff_weights(self):\n",
    "        self.update_model()\n",
    "        return self.pre_weights - self.weights\n",
    "    \n",
    "    def send_update(self):\n",
    "        return self.diff_weights()\n",
    "        "
   ]
  },
  {
   "cell_type": "code",
   "execution_count": 3,
   "metadata": {},
   "outputs": [],
   "source": [
    "client = Client(client_id = 1, update_config = update_config, server_config = server_config)"
   ]
  },
  {
   "cell_type": "code",
   "execution_count": 4,
   "metadata": {},
   "outputs": [
    {
     "name": "stdout",
     "output_type": "stream",
     "text": [
      "Epoch 1/10\n",
      "135/135 [==============================] - 12s 37ms/step - loss: 3.4198 - acc: 0.0844 - val_loss: 4.3514 - val_acc: 0.0387\n",
      "Epoch 2/10\n",
      "135/135 [==============================] - 4s 30ms/step - loss: 2.9189 - acc: 0.1700 - val_loss: 3.8835 - val_acc: 0.0347\n",
      "Epoch 3/10\n",
      "135/135 [==============================] - 4s 33ms/step - loss: 2.6431 - acc: 0.2369 - val_loss: 3.6130 - val_acc: 0.0347\n",
      "Epoch 4/10\n",
      "135/135 [==============================] - 4s 32ms/step - loss: 2.4585 - acc: 0.2865 - val_loss: 3.5320 - val_acc: 0.0313\n",
      "Epoch 5/10\n",
      "135/135 [==============================] - 4s 33ms/step - loss: 2.3071 - acc: 0.3265 - val_loss: 3.5527 - val_acc: 0.0347\n",
      "Epoch 6/10\n",
      "135/135 [==============================] - 4s 33ms/step - loss: 2.1975 - acc: 0.3539 - val_loss: 3.5554 - val_acc: 0.0340\n",
      "Epoch 7/10\n",
      "135/135 [==============================] - 5s 38ms/step - loss: 2.1103 - acc: 0.3803 - val_loss: 3.6227 - val_acc: 0.0340\n",
      "Epoch 8/10\n",
      "135/135 [==============================] - 5s 39ms/step - loss: 2.0096 - acc: 0.4102 - val_loss: 3.6646 - val_acc: 0.0367\n",
      "Epoch 9/10\n",
      "135/135 [==============================] - 5s 34ms/step - loss: 1.8916 - acc: 0.4384 - val_loss: 3.6745 - val_acc: 0.0347\n",
      "Epoch 10/10\n",
      "135/135 [==============================] - 5s 34ms/step - loss: 1.8235 - acc: 0.4572 - val_loss: 3.7819 - val_acc: 0.0340\n"
     ]
    },
    {
     "name": "stderr",
     "output_type": "stream",
     "text": [
      "/tmp/ipykernel_1281254/1744656522.py:72: VisibleDeprecationWarning: Creating an ndarray from ragged nested sequences (which is a list-or-tuple of lists-or-tuples-or ndarrays with different lengths or shapes) is deprecated. If you meant to do this, you must specify 'dtype=object' when creating the ndarray.\n",
      "  self.weights = np.array(self.weights)\n"
     ]
    }
   ],
   "source": [
    "client.update_model()"
   ]
  }
 ],
 "metadata": {
  "interpreter": {
   "hash": "e60dc1f8d88e83fcc471fb2deca468da97de2249c28336184c71912856987028"
  },
  "kernelspec": {
   "display_name": "Python 3.8.12 ('fl')",
   "language": "python",
   "name": "python3"
  },
  "language_info": {
   "codemirror_mode": {
    "name": "ipython",
    "version": 3
   },
   "file_extension": ".py",
   "mimetype": "text/x-python",
   "name": "python",
   "nbconvert_exporter": "python",
   "pygments_lexer": "ipython3",
   "version": "3.8.12"
  },
  "orig_nbformat": 4
 },
 "nbformat": 4,
 "nbformat_minor": 2
}
